{
 "cells": [
  {
   "cell_type": "code",
   "execution_count": 3,
   "metadata": {},
   "outputs": [],
   "source": [
    "import numpy as np\n",
    "from numpy import genfromtxt\n",
    "from sklearn import linear_model"
   ]
  },
  {
   "cell_type": "code",
   "execution_count": 4,
   "metadata": {},
   "outputs": [
    {
     "data": {
      "text/plain": [
       "array([['5.1', '3.5', '1.4', '0.2', 'Iris-setosa'],\n",
       "       ['4.9', '3.0', '1.4', '0.2', 'Iris-setosa'],\n",
       "       ['4.7', '3.2', '1.3', '0.2', 'Iris-setosa'],\n",
       "       ['4.6', '3.1', '1.5', '0.2', 'Iris-setosa'],\n",
       "       ['5.0', '3.6', '1.4', '0.2', 'Iris-setosa'],\n",
       "       ['5.4', '3.9', '1.7', '0.4', 'Iris-setosa'],\n",
       "       ['4.6', '3.4', '1.4', '0.3', 'Iris-setosa'],\n",
       "       ['5.0', '3.4', '1.5', '0.2', 'Iris-setosa'],\n",
       "       ['4.4', '2.9', '1.4', '0.2', 'Iris-setosa'],\n",
       "       ['4.9', '3.1', '1.5', '0.1', 'Iris-setosa']], dtype='<U15')"
      ]
     },
     "execution_count": 4,
     "metadata": {},
     "output_type": "execute_result"
    }
   ],
   "source": [
    "file = genfromtxt('/home/kishor/data/iris.csv', delimiter = ',', dtype = 'str')\n",
    "file[:10]"
   ]
  },
  {
   "cell_type": "code",
   "execution_count": 5,
   "metadata": {},
   "outputs": [],
   "source": [
    "import matplotlib.pyplot as plt"
   ]
  },
  {
   "cell_type": "code",
   "execution_count": 10,
   "metadata": {},
   "outputs": [],
   "source": [
    "dic = {}\n",
    "count = 0\n",
    "#convert string to numerical\n",
    "for val in file:\n",
    "    if val[4] not in dic:\n",
    "        dic[val[4]] = count\n",
    "        count = count+1\n",
    "        \n",
    "\n",
    "for val in file:\n",
    "    val[4] = dic[val[4]]"
   ]
  },
  {
   "cell_type": "code",
   "execution_count": 11,
   "metadata": {},
   "outputs": [
    {
     "ename": "KeyError",
     "evalue": "'figure,figsize is not a valid rc parameter. See rcParams.keys() for a list of valid parameters.'",
     "output_type": "error",
     "traceback": [
      "\u001b[0;31m---------------------------------------------------------------------------\u001b[0m",
      "\u001b[0;31mKeyError\u001b[0m                                  Traceback (most recent call last)",
      "\u001b[0;32m~/anaconda3/envs/my_env/lib/python3.6/site-packages/matplotlib/__init__.py\u001b[0m in \u001b[0;36m__setitem__\u001b[0;34m(self, key, val)\u001b[0m\n\u001b[1;32m    911\u001b[0m             \u001b[0;32mtry\u001b[0m\u001b[0;34m:\u001b[0m\u001b[0;34m\u001b[0m\u001b[0m\n\u001b[0;32m--> 912\u001b[0;31m                 \u001b[0mcval\u001b[0m \u001b[0;34m=\u001b[0m \u001b[0mself\u001b[0m\u001b[0;34m.\u001b[0m\u001b[0mvalidate\u001b[0m\u001b[0;34m[\u001b[0m\u001b[0mkey\u001b[0m\u001b[0;34m]\u001b[0m\u001b[0;34m(\u001b[0m\u001b[0mval\u001b[0m\u001b[0;34m)\u001b[0m\u001b[0;34m\u001b[0m\u001b[0m\n\u001b[0m\u001b[1;32m    913\u001b[0m             \u001b[0;32mexcept\u001b[0m \u001b[0mValueError\u001b[0m \u001b[0;32mas\u001b[0m \u001b[0mve\u001b[0m\u001b[0;34m:\u001b[0m\u001b[0;34m\u001b[0m\u001b[0m\n",
      "\u001b[0;31mKeyError\u001b[0m: 'figure,figsize'",
      "\nDuring handling of the above exception, another exception occurred:\n",
      "\u001b[0;31mKeyError\u001b[0m                                  Traceback (most recent call last)",
      "\u001b[0;32m<ipython-input-11-2762714f45b0>\u001b[0m in \u001b[0;36m<module>\u001b[0;34m()\u001b[0m\n\u001b[1;32m      8\u001b[0m \u001b[0;34m\u001b[0m\u001b[0m\n\u001b[1;32m      9\u001b[0m \u001b[0mplt\u001b[0m\u001b[0;34m.\u001b[0m\u001b[0mscatter\u001b[0m\u001b[0;34m(\u001b[0m\u001b[0mfeaturesAll\u001b[0m\u001b[0;34m,\u001b[0m \u001b[0mtargets\u001b[0m\u001b[0;34m,\u001b[0m \u001b[0mcolor\u001b[0m\u001b[0;34m=\u001b[0m\u001b[0;34m'red'\u001b[0m\u001b[0;34m,\u001b[0m \u001b[0malpha\u001b[0m \u001b[0;34m=\u001b[0m\u001b[0;36m1\u001b[0m\u001b[0;34m)\u001b[0m\u001b[0;34m\u001b[0m\u001b[0m\n\u001b[0;32m---> 10\u001b[0;31m \u001b[0mplt\u001b[0m\u001b[0;34m.\u001b[0m\u001b[0mrcParams\u001b[0m\u001b[0;34m[\u001b[0m\u001b[0;34m'figure,figsize'\u001b[0m\u001b[0;34m]\u001b[0m \u001b[0;34m=\u001b[0m \u001b[0;34m[\u001b[0m\u001b[0;36m10\u001b[0m\u001b[0;34m,\u001b[0m\u001b[0;36m8\u001b[0m\u001b[0;34m]\u001b[0m\u001b[0;34m\u001b[0m\u001b[0m\n\u001b[0m\u001b[1;32m     11\u001b[0m \u001b[0mplt\u001b[0m\u001b[0;34m.\u001b[0m\u001b[0mtitle\u001b[0m\u001b[0;34m[\u001b[0m\u001b[0;34m'Iris Dataset Scatter plot'\u001b[0m\u001b[0;34m]\u001b[0m\u001b[0;34m\u001b[0m\u001b[0m\n\u001b[1;32m     12\u001b[0m \u001b[0mplt\u001b[0m\u001b[0;34m.\u001b[0m\u001b[0mxlabel\u001b[0m\u001b[0;34m(\u001b[0m\u001b[0;34m'Features'\u001b[0m\u001b[0;34m)\u001b[0m\u001b[0;34m\u001b[0m\u001b[0m\n",
      "\u001b[0;32m~/anaconda3/envs/my_env/lib/python3.6/site-packages/matplotlib/__init__.py\u001b[0m in \u001b[0;36m__setitem__\u001b[0;34m(self, key, val)\u001b[0m\n\u001b[1;32m    917\u001b[0m             raise KeyError(\n\u001b[1;32m    918\u001b[0m                 \u001b[0;34m'%s is not a valid rc parameter. See rcParams.keys() for a '\u001b[0m\u001b[0;34m\u001b[0m\u001b[0m\n\u001b[0;32m--> 919\u001b[0;31m                 'list of valid parameters.' % (key,))\n\u001b[0m\u001b[1;32m    920\u001b[0m \u001b[0;34m\u001b[0m\u001b[0m\n\u001b[1;32m    921\u001b[0m     \u001b[0;32mdef\u001b[0m \u001b[0m__getitem__\u001b[0m\u001b[0;34m(\u001b[0m\u001b[0mself\u001b[0m\u001b[0;34m,\u001b[0m \u001b[0mkey\u001b[0m\u001b[0;34m)\u001b[0m\u001b[0;34m:\u001b[0m\u001b[0;34m\u001b[0m\u001b[0m\n",
      "\u001b[0;31mKeyError\u001b[0m: 'figure,figsize is not a valid rc parameter. See rcParams.keys() for a list of valid parameters.'"
     ]
    },
    {
     "data": {
      "image/png": "[encoded data removed]",
      "text/plain": [
       "<Figure size 432x288 with 1 Axes>"
      ]
     },
     "metadata": {},
     "output_type": "display_data"
    }
   ],
   "source": [
    "features = file[:,[0,1,2,3]]\n",
    "features = features.astype(float)\n",
    "targets = file[:,[4]]\n",
    "targets = targets.astype(int)\n",
    "featuresAll = []\n",
    "for val in features:\n",
    "    featuresAll.append([val[0] + val[1] + val[2] + val[3]])\n",
    "    \n",
    "plt.scatter(featuresAll, targets, color='red', alpha =1)\n",
    "plt.rcParams['figure,figsize'] = [10,8]\n",
    "plt.title['Iris Dataset Scatter plot']\n",
    "plt.xlabel('Features')\n",
    "plt.ylabel('Class')\n",
    "plt.show()"
   ]
  },
  {
   "cell_type": "code",
   "execution_count": 14,
   "metadata": {},
   "outputs": [
    {
     "data": {
      "image/png": "[encoded data removed]",
      "text/plain": [
       "<Figure size 432x288 with 1 Axes>"
      ]
     },
     "metadata": {},
     "output_type": "display_data"
    }
   ],
   "source": [
    "featuresAll = []\n",
    "targets = []\n",
    "\n",
    "for feature in features:\n",
    "    featuresAll.append(feature[0])\n",
    "    targets.append(feature[1])\n",
    "    \n",
    "groups = ('Iris-setosa', 'Iris-versicolor', 'Iris-virginica')\n",
    "colors = ('blue','green','red')\n",
    "\n",
    "data = ((featuresAll[:50], targets[:50]),(featuresAll[100:150], targets[100:150]),(featuresAll[50:100], targets[50:100]))\n",
    "\n",
    "for item, color, group in zip(data, colors, groups):\n",
    "    x, y = item\n",
    "    plt.scatter(x, y, color = color, alpha = 1)\n",
    "    \n",
    "plt.rcParams['figure.figsize'] = [15,12]\n",
    "plt.title('Scatter plot sepal length and width')\n",
    "plt.xlabel('Sepal length')\n",
    "plt.ylabel('Sepal width')\n",
    "plt.show()\n"
   ]
  },
  {
   "cell_type": "code",
   "execution_count": 15,
   "metadata": {},
   "outputs": [
    {
     "data": {
      "image/png": "[encoded data removed]",
      "text/plain": [
       "<Figure size 1080x864 with 1 Axes>"
      ]
     },
     "metadata": {},
     "output_type": "display_data"
    }
   ],
   "source": [
    "featuresAll = []\n",
    "targets = []\n",
    "\n",
    "for feature in features:\n",
    "    featuresAll.append(feature[2])\n",
    "    targets.append(feature[3])\n",
    "    \n",
    "groups = ('Iris-setosa', 'Iris-versicolor', 'Iris-virginica')\n",
    "colors = ('blue','green','red')\n",
    "\n",
    "data = ((featuresAll[:50], targets[:50]),(featuresAll[100:150], targets[100:150]),(featuresAll[50:100], targets[50:100]))\n",
    "\n",
    "for item, color, group in zip(data, colors, groups):\n",
    "    x, y = item\n",
    "    plt.scatter(x, y, color = color, alpha = 1)\n",
    "    \n",
    "plt.rcParams['figure.figsize'] = [15,12]\n",
    "plt.title('Scatter plot sepal length and width')\n",
    "plt.xlabel('Petal length')\n",
    "plt.ylabel('Petal width')\n",
    "plt.show()"
   ]
  },
  {
   "cell_type": "code",
   "execution_count": 80,
   "metadata": {},
   "outputs": [],
   "source": []
  },
  {
   "cell_type": "code",
   "execution_count": 17,
   "metadata": {},
   "outputs": [
    {
     "name": "stdout",
     "output_type": "stream",
     "text": [
      "[['5.1' '3.5' '1.4' '0.2' '0']\n",
      " ['7.0' '3.2' '4.7' '1.4' '1']\n",
      " ['6.3' '3.3' '6.0' '2.5' '2']\n",
      " ['4.9' '3.0' '1.4' '0.2' '0']\n",
      " ['6.4' '3.2' '4.5' '1.5' '1']\n",
      " ['5.8' '2.7' '5.1' '1.9' '2']\n",
      " ['4.7' '3.2' '1.3' '0.2' '0']\n",
      " ['6.9' '3.1' '4.9' '1.5' '1']\n",
      " ['7.1' '3.0' '5.9' '2.1' '2']\n",
      " ['4.6' '3.1' '1.5' '0.2' '0']\n",
      " ['5.5' '2.3' '4.0' '1.3' '1']\n",
      " ['6.3' '2.9' '5.6' '1.8' '2']\n",
      " ['5.0' '3.6' '1.4' '0.2' '0']\n",
      " ['6.5' '2.8' '4.6' '1.5' '1']\n",
      " ['6.5' '3.0' '5.8' '2.2' '2']\n",
      " ['5.4' '3.9' '1.7' '0.4' '0']\n",
      " ['5.7' '2.8' '4.5' '1.3' '1']\n",
      " ['7.6' '3.0' '6.6' '2.1' '2']\n",
      " ['4.6' '3.4' '1.4' '0.3' '0']\n",
      " ['6.3' '3.3' '4.7' '1.6' '1']\n",
      " ['4.9' '2.5' '4.5' '1.7' '2']\n",
      " ['5.0' '3.4' '1.5' '0.2' '0']\n",
      " ['4.9' '2.4' '3.3' '1.0' '1']\n",
      " ['7.3' '2.9' '6.3' '1.8' '2']\n",
      " ['4.4' '2.9' '1.4' '0.2' '0']\n",
      " ['6.6' '2.9' '4.6' '1.3' '1']\n",
      " ['6.7' '2.5' '5.8' '1.8' '2']\n",
      " ['4.9' '3.1' '1.5' '0.1' '0']\n",
      " ['5.2' '2.7' '3.9' '1.4' '1']\n",
      " ['7.2' '3.6' '6.1' '2.5' '2']\n",
      " ['5.4' '3.7' '1.5' '0.2' '0']\n",
      " ['5.0' '2.0' '3.5' '1.0' '1']\n",
      " ['6.5' '3.2' '5.1' '2.0' '2']\n",
      " ['4.8' '3.4' '1.6' '0.2' '0']\n",
      " ['5.9' '3.0' '4.2' '1.5' '1']\n",
      " ['6.4' '2.7' '5.3' '1.9' '2']\n",
      " ['4.8' '3.0' '1.4' '0.1' '0']\n",
      " ['6.0' '2.2' '4.0' '1.0' '1']\n",
      " ['6.8' '3.0' '5.5' '2.1' '2']\n",
      " ['4.3' '3.0' '1.1' '0.1' '0']\n",
      " ['6.1' '2.9' '4.7' '1.4' '1']\n",
      " ['5.7' '2.5' '5.0' '2.0' '2']\n",
      " ['5.8' '4.0' '1.2' '0.2' '0']\n",
      " ['5.6' '2.9' '3.6' '1.3' '1']\n",
      " ['5.8' '2.8' '5.1' '2.4' '2']\n",
      " ['5.7' '4.4' '1.5' '0.4' '0']\n",
      " ['6.7' '3.1' '4.4' '1.4' '1']\n",
      " ['6.4' '3.2' '5.3' '2.3' '2']\n",
      " ['5.4' '3.9' '1.3' '0.4' '0']\n",
      " ['5.6' '3.0' '4.5' '1.5' '1']\n",
      " ['6.5' '3.0' '5.5' '1.8' '2']\n",
      " ['5.1' '3.5' '1.4' '0.3' '0']\n",
      " ['5.8' '2.7' '4.1' '1.0' '1']\n",
      " ['7.7' '3.8' '6.7' '2.2' '2']\n",
      " ['5.7' '3.8' '1.7' '0.3' '0']\n",
      " ['6.2' '2.2' '4.5' '1.5' '1']\n",
      " ['7.7' '2.6' '6.9' '2.3' '2']\n",
      " ['5.1' '3.8' '1.5' '0.3' '0']\n",
      " ['5.6' '2.5' '3.9' '1.1' '1']\n",
      " ['6.0' '2.2' '5.0' '1.5' '2']\n",
      " ['5.4' '3.4' '1.7' '0.2' '0']\n",
      " ['5.9' '3.2' '4.8' '1.8' '1']\n",
      " ['6.9' '3.2' '5.7' '2.3' '2']\n",
      " ['5.1' '3.7' '1.5' '0.4' '0']\n",
      " ['6.1' '2.8' '4.0' '1.3' '1']\n",
      " ['5.6' '2.8' '4.9' '2.0' '2']\n",
      " ['4.6' '3.6' '1.0' '0.2' '0']\n",
      " ['6.3' '2.5' '4.9' '1.5' '1']\n",
      " ['7.7' '2.8' '6.7' '2.0' '2']\n",
      " ['5.1' '3.3' '1.7' '0.5' '0']\n",
      " ['6.1' '2.8' '4.7' '1.2' '1']\n",
      " ['6.3' '2.7' '4.9' '1.8' '2']\n",
      " ['4.8' '3.4' '1.9' '0.2' '0']\n",
      " ['6.4' '2.9' '4.3' '1.3' '1']\n",
      " ['6.7' '3.3' '5.7' '2.1' '2']\n",
      " ['5.0' '3.0' '1.6' '0.2' '0']\n",
      " ['6.6' '3.0' '4.4' '1.4' '1']\n",
      " ['7.2' '3.2' '6.0' '1.8' '2']\n",
      " ['5.0' '3.4' '1.6' '0.4' '0']\n",
      " ['6.8' '2.8' '4.8' '1.4' '1']\n",
      " ['6.2' '2.8' '4.8' '1.8' '2']\n",
      " ['5.2' '3.5' '1.5' '0.2' '0']\n",
      " ['6.7' '3.0' '5.0' '1.7' '1']\n",
      " ['6.1' '3.0' '4.9' '1.8' '2']\n",
      " ['5.2' '3.4' '1.4' '0.2' '0']\n",
      " ['6.0' '2.9' '4.5' '1.5' '1']\n",
      " ['6.4' '2.8' '5.6' '2.1' '2']\n",
      " ['4.7' '3.2' '1.6' '0.2' '0']\n",
      " ['5.7' '2.6' '3.5' '1.0' '1']\n",
      " ['7.2' '3.0' '5.8' '1.6' '2']\n",
      " ['4.8' '3.1' '1.6' '0.2' '0']\n",
      " ['5.5' '2.4' '3.8' '1.1' '1']\n",
      " ['7.4' '2.8' '6.1' '1.9' '2']\n",
      " ['5.4' '3.4' '1.5' '0.4' '0']\n",
      " ['5.5' '2.4' '3.7' '1.0' '1']\n",
      " ['7.9' '3.8' '6.4' '2.0' '2']\n",
      " ['5.2' '4.1' '1.5' '0.1' '0']\n",
      " ['5.8' '2.7' '3.9' '1.2' '1']\n",
      " ['6.4' '2.8' '5.6' '2.2' '2']\n",
      " ['5.5' '4.2' '1.4' '0.2' '0']\n",
      " ['6.0' '2.7' '5.1' '1.6' '1']\n",
      " ['6.3' '2.8' '5.1' '1.5' '2']\n",
      " ['4.9' '3.1' '1.5' '0.2' '0']\n",
      " ['5.4' '3.0' '4.5' '1.5' '1']\n",
      " ['6.1' '2.6' '5.6' '1.4' '2']\n",
      " ['5.0' '3.2' '1.2' '0.2' '0']\n",
      " ['6.0' '3.4' '4.5' '1.6' '1']\n",
      " ['7.7' '3.0' '6.1' '2.3' '2']\n",
      " ['5.5' '3.5' '1.3' '0.2' '0']\n",
      " ['6.7' '3.1' '4.7' '1.5' '1']\n",
      " ['6.3' '3.4' '5.6' '2.4' '2']\n",
      " ['4.9' '3.6' '1.4' '0.1' '0']\n",
      " ['6.3' '2.3' '4.4' '1.3' '1']\n",
      " ['6.4' '3.1' '5.5' '1.8' '2']\n",
      " ['4.4' '3.0' '1.3' '0.2' '0']\n",
      " ['5.6' '3.0' '4.1' '1.3' '1']\n",
      " ['6.0' '3.0' '4.8' '1.8' '2']\n",
      " ['5.1' '3.4' '1.5' '0.2' '0']\n",
      " ['5.5' '2.5' '4.0' '1.3' '1']\n",
      " ['6.9' '3.1' '5.4' '2.1' '2']\n",
      " ['5.0' '3.5' '1.3' '0.3' '0']\n",
      " ['5.5' '2.6' '4.4' '1.2' '1']\n",
      " ['6.7' '3.1' '5.6' '2.4' '2']\n",
      " ['4.5' '2.3' '1.3' '0.3' '0']\n",
      " ['6.1' '3.0' '4.6' '1.4' '1']\n",
      " ['6.9' '3.1' '5.1' '2.3' '2']\n",
      " ['4.4' '3.2' '1.3' '0.2' '0']\n",
      " ['5.8' '2.6' '4.0' '1.2' '1']\n",
      " ['5.8' '2.7' '5.1' '1.9' '2']\n",
      " ['5.0' '3.5' '1.6' '0.6' '0']\n",
      " ['5.0' '2.3' '3.3' '1.0' '1']\n",
      " ['6.8' '3.2' '5.9' '2.3' '2']\n",
      " ['5.1' '3.8' '1.9' '0.4' '0']\n",
      " ['5.6' '2.7' '4.2' '1.3' '1']\n",
      " ['6.7' '3.3' '5.7' '2.5' '2']\n",
      " ['4.8' '3.0' '1.4' '0.3' '0']\n",
      " ['5.7' '3.0' '4.2' '1.2' '1']\n",
      " ['6.7' '3.0' '5.2' '2.3' '2']\n",
      " ['5.1' '3.8' '1.6' '0.2' '0']\n",
      " ['5.7' '2.9' '4.2' '1.3' '1']\n",
      " ['6.3' '2.5' '5.0' '1.9' '2']\n",
      " ['4.6' '3.2' '1.4' '0.2' '0']\n",
      " ['6.2' '2.9' '4.3' '1.3' '1']\n",
      " ['6.5' '3.0' '5.2' '2.0' '2']\n",
      " ['5.3' '3.7' '1.5' '0.2' '0']\n",
      " ['5.1' '2.5' '3.0' '1.1' '1']\n",
      " ['6.2' '3.4' '5.4' '2.3' '2']\n",
      " ['5.0' '3.3' '1.4' '0.2' '0']\n",
      " ['5.7' '2.8' '4.1' '1.3' '1']\n",
      " ['5.9' '3.0' '5.1' '1.8' '2']]\n"
     ]
    }
   ],
   "source": [
    "clas1 = 0\n",
    "clas2 = 50\n",
    "clas3 = 100\n",
    "dataset = []\n",
    "for observation in range(0,50):\n",
    "    dataset.append(file[clas1])\n",
    "    dataset.append(file[clas2])\n",
    "    dataset.append(file[clas3])\n",
    "    clas1+=1\n",
    "    clas2+=1\n",
    "    clas3+=1\n",
    "    \n",
    "#print(dataset)\n",
    "dd = np.array(dataset)\n",
    "print(dd)"
   ]
  },
  {
   "cell_type": "code",
   "execution_count": 18,
   "metadata": {},
   "outputs": [],
   "source": [
    "training = dd[:130]\n",
    "trainingX = training[:,[0,1,2,3]]\n",
    "trainingX = trainingX.astype(float)\n",
    "\n",
    "trainingY = training[:,[4]]\n",
    "trainingY = trainingY.astype(float)\n",
    "testing = dd[130:]\n",
    "testingX = testing[:,[0,1,2,3]]\n",
    "testingX = testingX.astype(float)\n",
    "testingY = testing[:,[4]]\n",
    "testingY = testingY.astype(float)"
   ]
  },
  {
   "cell_type": "code",
   "execution_count": 19,
   "metadata": {},
   "outputs": [
    {
     "name": "stderr",
     "output_type": "stream",
     "text": [
      "/home/kishor/anaconda3/envs/my_env/lib/python3.6/site-packages/sklearn/utils/validation.py:578: DataConversionWarning: A column-vector y was passed when a 1d array was expected. Please change the shape of y to (n_samples, ), for example using ravel().\n",
      "  y = column_or_1d(y, warn=True)\n"
     ]
    },
    {
     "data": {
      "text/plain": [
       "100.0"
      ]
     },
     "execution_count": 19,
     "metadata": {},
     "output_type": "execute_result"
    }
   ],
   "source": [
    "LR = linear_model.LogisticRegression()\n",
    "LR.fit(trainingX, trainingY)\n",
    "LR.score(testingX, testingY) * 100"
   ]
  },
  {
   "cell_type": "code",
   "execution_count": 20,
   "metadata": {},
   "outputs": [
    {
     "name": "stdout",
     "output_type": "stream",
     "text": [
      "[1.]\n",
      "real values is[1.]\n"
     ]
    }
   ],
   "source": [
    "LR.predict([testingX[12]])\n",
    "print(LR.predict([testingX[12]]))\n",
    "print(\"real values is\" + str(testingY[12]))"
   ]
  },
  {
   "cell_type": "code",
   "execution_count": 16,
   "metadata": {},
   "outputs": [],
   "source": [
    "from sklearn.ensemble import RandomForestClassifier"
   ]
  },
  {
   "cell_type": "code",
   "execution_count": 21,
   "metadata": {},
   "outputs": [
    {
     "name": "stderr",
     "output_type": "stream",
     "text": [
      "/home/kishor/anaconda3/envs/my_env/lib/python3.6/site-packages/ipykernel_launcher.py:2: DataConversionWarning: A column-vector y was passed when a 1d array was expected. Please change the shape of y to (n_samples,), for example using ravel().\n",
      "  \n",
      "/home/kishor/anaconda3/envs/my_env/lib/python3.6/site-packages/sklearn/ensemble/forest.py:453: UserWarning: Some inputs do not have OOB scores. This probably means too few trees were used to compute any reliable oob estimates.\n",
      "  warn(\"Some inputs do not have OOB scores. \"\n",
      "/home/kishor/anaconda3/envs/my_env/lib/python3.6/site-packages/sklearn/ensemble/forest.py:458: RuntimeWarning: invalid value encountered in true_divide\n",
      "  predictions[k].sum(axis=1)[:, np.newaxis])\n"
     ]
    },
    {
     "data": {
      "text/plain": [
       "RandomForestClassifier(bootstrap=True, class_weight=None, criterion='gini',\n",
       "            max_depth=None, max_features='auto', max_leaf_nodes=None,\n",
       "            min_impurity_decrease=0.0, min_impurity_split=None,\n",
       "            min_samples_leaf=1, min_samples_split=2,\n",
       "            min_weight_fraction_leaf=0.0, n_estimators=10, n_jobs=2,\n",
       "            oob_score=True, random_state=100, verbose=0, warm_start=False)"
      ]
     },
     "execution_count": 21,
     "metadata": {},
     "output_type": "execute_result"
    }
   ],
   "source": [
    "clf = RandomForestClassifier(n_jobs=2, random_state=100, oob_score=True)\n",
    "clf.fit(trainingX, trainingY)"
   ]
  },
  {
   "cell_type": "code",
   "execution_count": 22,
   "metadata": {},
   "outputs": [],
   "source": [
    "predictions = clf.predict(testingX)"
   ]
  },
  {
   "cell_type": "code",
   "execution_count": 23,
   "metadata": {},
   "outputs": [
    {
     "data": {
      "text/plain": [
       "array([1., 2., 0., 1., 2., 0., 1., 2., 0., 1.])"
      ]
     },
     "execution_count": 23,
     "metadata": {},
     "output_type": "execute_result"
    }
   ],
   "source": [
    "predictions[:10]"
   ]
  },
  {
   "cell_type": "code",
   "execution_count": 24,
   "metadata": {},
   "outputs": [
    {
     "data": {
      "text/plain": [
       "array([[1.],\n",
       "       [2.],\n",
       "       [0.],\n",
       "       [1.],\n",
       "       [2.],\n",
       "       [0.],\n",
       "       [1.],\n",
       "       [2.],\n",
       "       [0.],\n",
       "       [1.]])"
      ]
     },
     "execution_count": 24,
     "metadata": {},
     "output_type": "execute_result"
    }
   ],
   "source": [
    "testingY[:10]"
   ]
  },
  {
   "cell_type": "code",
   "execution_count": 25,
   "metadata": {},
   "outputs": [
    {
     "data": {
      "text/plain": [
       "100.0"
      ]
     },
     "execution_count": 25,
     "metadata": {},
     "output_type": "execute_result"
    }
   ],
   "source": [
    "clf.score(testingX, testingY) * 100"
   ]
  },
  {
   "cell_type": "code",
   "execution_count": null,
   "metadata": {},
   "outputs": [],
   "source": []
  }
 ],
 "metadata": {
  "kernelspec": {
   "display_name": "Python 3",
   "language": "python",
   "name": "python3"
  },
  "language_info": {
   "codemirror_mode": {
    "name": "ipython",
    "version": 3
   },
   "file_extension": ".py",
   "mimetype": "text/x-python",
   "name": "python",
   "nbconvert_exporter": "python",
   "pygments_lexer": "ipython3",
   "version": "3.6.4"
  }
 },
 "nbformat": 4,
 "nbformat_minor": 2
}
