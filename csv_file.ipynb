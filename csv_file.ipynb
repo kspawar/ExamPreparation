{
 "cells": [
  {
   "cell_type": "code",
   "execution_count": 81,
   "metadata": {},
   "outputs": [],
   "source": [
    "import pandas as pd\n",
    "import numpy as np"
   ]
  },
  {
   "cell_type": "markdown",
   "metadata": {},
   "source": [
    "## Reading csv file"
   ]
  },
  {
   "cell_type": "code",
   "execution_count": 82,
   "metadata": {},
   "outputs": [],
   "source": [
    "uu = '/home/kishor/Downloads/Automatic email content store.csv'\n",
    "dataset = pd.read_csv(uu, sep='$')"
   ]
  },
  {
   "cell_type": "markdown",
   "metadata": {},
   "source": [
    "## Separated by $"
   ]
  },
  {
   "cell_type": "code",
   "execution_count": 83,
   "metadata": {},
   "outputs": [
    {
     "data": {
      "text/html": [
       "<div>\n",
       "<style scoped>\n",
       "    .dataframe tbody tr th:only-of-type {\n",
       "        vertical-align: middle;\n",
       "    }\n",
       "\n",
       "    .dataframe tbody tr th {\n",
       "        vertical-align: top;\n",
       "    }\n",
       "\n",
       "    .dataframe thead th {\n",
       "        text-align: right;\n",
       "    }\n",
       "</style>\n",
       "<table border=\"1\" class=\"dataframe\">\n",
       "  <thead>\n",
       "    <tr style=\"text-align: right;\">\n",
       "      <th></th>\n",
       "      <th>Date</th>\n",
       "      <th>to</th>\n",
       "      <th>raw</th>\n",
       "    </tr>\n",
       "  </thead>\n",
       "  <tbody>\n",
       "    <tr>\n",
       "      <th>0</th>\n",
       "      <td>30/09/17</td>\n",
       "      <td>shubhi.prakash03@gmail.com</td>\n",
       "      <td>will be doing it by tomorrow</td>\n",
       "    </tr>\n",
       "    <tr>\n",
       "      <th>1</th>\n",
       "      <td>30/09/17</td>\n",
       "      <td>exampreparationonline@gmail.com</td>\n",
       "      <td>will be doing it by tomorrow</td>\n",
       "    </tr>\n",
       "    <tr>\n",
       "      <th>2</th>\n",
       "      <td>30/09/17</td>\n",
       "      <td>exampreparationonline@gmail.com</td>\n",
       "      <td>will be doing it by tomorrow</td>\n",
       "    </tr>\n",
       "    <tr>\n",
       "      <th>3</th>\n",
       "      <td>30/09/17</td>\n",
       "      <td>shubhi.prakash03@gmail.com</td>\n",
       "      <td>will be doing it by tomorrow</td>\n",
       "    </tr>\n",
       "    <tr>\n",
       "      <th>4</th>\n",
       "      <td>30/09/17</td>\n",
       "      <td>shubhi.prakash03@gmail.com</td>\n",
       "      <td>will be doing it by tomorrow</td>\n",
       "    </tr>\n",
       "  </tbody>\n",
       "</table>\n",
       "</div>"
      ],
      "text/plain": [
       "       Date                              to                            raw\n",
       "0  30/09/17       shubhi.prakash03@gmail.com  will be doing it by tomorrow\n",
       "1  30/09/17  exampreparationonline@gmail.com  will be doing it by tomorrow\n",
       "2  30/09/17  exampreparationonline@gmail.com  will be doing it by tomorrow\n",
       "3  30/09/17       shubhi.prakash03@gmail.com  will be doing it by tomorrow\n",
       "4  30/09/17       shubhi.prakash03@gmail.com  will be doing it by tomorrow"
      ]
     },
     "execution_count": 83,
     "metadata": {},
     "output_type": "execute_result"
    }
   ],
   "source": [
    "dataset.head()"
   ]
  },
  {
   "cell_type": "markdown",
   "metadata": {},
   "source": [
    "## Unique mails"
   ]
  },
  {
   "cell_type": "code",
   "execution_count": 84,
   "metadata": {},
   "outputs": [
    {
     "data": {
      "text/plain": [
       "array(['shubhi.prakash03@gmail.com', 'exampreparationonline@gmail.com',\n",
       "       'nidhisaini05@gmail.com', 'chowdhuryshaif@rediffmail.com',\n",
       "       'abhishekguragol@gmail.com', 'sonuyannam@gmail.com',\n",
       "       'sachinsn231@gmail.com', 'limithakeerthi@gmail.com',\n",
       "       'ramthakkar07@gmail.com', 'pavithramurugan22@gmail.com',\n",
       "       'saha.swapankumar1@gmail.com'], dtype=object)"
      ]
     },
     "execution_count": 84,
     "metadata": {},
     "output_type": "execute_result"
    }
   ],
   "source": [
    "unique_mails = dataset['to '].unique()\n",
    "unique_mails"
   ]
  },
  {
   "cell_type": "code",
   "execution_count": 85,
   "metadata": {},
   "outputs": [
    {
     "data": {
      "text/plain": [
       "array(['will be doing it by tomorrow', 'try to submit it with details',\n",
       "       'can u tell me the details?', 'when is the deadline?'],\n",
       "      dtype=object)"
      ]
     },
     "execution_count": 85,
     "metadata": {},
     "output_type": "execute_result"
    }
   ],
   "source": [
    "unique_raw = dataset['raw'].unique()\n",
    "unique_raw"
   ]
  },
  {
   "cell_type": "code",
   "execution_count": 86,
   "metadata": {},
   "outputs": [
    {
     "data": {
      "text/plain": [
       "array(['30/09/17', '01/10/17', '1 Oct 2017 19:25:52 -0000', '02/10/17',\n",
       "       '03/10/17', '04/10/17'], dtype=object)"
      ]
     },
     "execution_count": 86,
     "metadata": {},
     "output_type": "execute_result"
    }
   ],
   "source": [
    "unique_dates = dataset['Date'].unique()\n",
    "unique_dates\n",
    "#last_date = dataset['Date'].min()"
   ]
  },
  {
   "cell_type": "code",
   "execution_count": 87,
   "metadata": {},
   "outputs": [],
   "source": [
    "most = np.delete(unique_dates, 2, axis=0)"
   ]
  },
  {
   "cell_type": "markdown",
   "metadata": {},
   "source": [
    "### unique_dates.latest()"
   ]
  },
  {
   "cell_type": "code",
   "execution_count": 90,
   "metadata": {},
   "outputs": [],
   "source": [
    "from datetime import datetime"
   ]
  },
  {
   "cell_type": "code",
   "execution_count": 91,
   "metadata": {},
   "outputs": [],
   "source": [
    "updated = dataset.drop(22)"
   ]
  },
  {
   "cell_type": "code",
   "execution_count": 92,
   "metadata": {},
   "outputs": [
    {
     "data": {
      "text/plain": [
       "0    30/09/17\n",
       "1    30/09/17\n",
       "2    30/09/17\n",
       "3    30/09/17\n",
       "4    30/09/17\n",
       "Name: Date, dtype: object"
      ]
     },
     "execution_count": 92,
     "metadata": {},
     "output_type": "execute_result"
    }
   ],
   "source": [
    "updated['Date'].head()"
   ]
  },
  {
   "cell_type": "code",
   "execution_count": 93,
   "metadata": {},
   "outputs": [],
   "source": [
    "new = pd.to_datetime(updated['Date'], infer_datetime_format=True)"
   ]
  },
  {
   "cell_type": "code",
   "execution_count": 94,
   "metadata": {},
   "outputs": [
    {
     "data": {
      "text/plain": [
       "0   2017-09-30\n",
       "1   2017-09-30\n",
       "2   2017-09-30\n",
       "3   2017-09-30\n",
       "4   2017-09-30\n",
       "Name: Date, dtype: datetime64[ns]"
      ]
     },
     "execution_count": 94,
     "metadata": {},
     "output_type": "execute_result"
    }
   ],
   "source": [
    "new.head()"
   ]
  },
  {
   "cell_type": "code",
   "execution_count": 97,
   "metadata": {},
   "outputs": [
    {
     "data": {
      "text/plain": [
       "pandas._libs.tslib.Timestamp"
      ]
     },
     "execution_count": 97,
     "metadata": {},
     "output_type": "execute_result"
    }
   ],
   "source": [
    "lasts = min(new)\n",
    "#type(lasts)\n",
    "lasts = pd.to_datetime(lasts, infer_datetime_format=True)\n",
    "type(lasts)"
   ]
  },
  {
   "cell_type": "code",
   "execution_count": 98,
   "metadata": {},
   "outputs": [],
   "source": [
    "lasts = datetime.strftime(lasts, \"%d/%m/%Y\")"
   ]
  },
  {
   "cell_type": "markdown",
   "metadata": {},
   "source": [
    "## Function to count number of days elapsed"
   ]
  },
  {
   "cell_type": "code",
   "execution_count": 99,
   "metadata": {},
   "outputs": [
    {
     "data": {
      "text/plain": [
       "str"
      ]
     },
     "execution_count": 99,
     "metadata": {},
     "output_type": "execute_result"
    }
   ],
   "source": [
    "now = datetime.now().strftime(\"%d/%m/%Y\")\n",
    "type(now)"
   ]
  },
  {
   "cell_type": "code",
   "execution_count": 100,
   "metadata": {},
   "outputs": [],
   "source": [
    "def difference(d1 , d2):\n",
    "    d1 = datetime.strptime(d1, \"%d/%m/%Y\")\n",
    "    d2 = datetime.strptime(d2, \"%m/%d/%Y\")\n",
    "    return abs((d1 - d2).days)"
   ]
  },
  {
   "cell_type": "code",
   "execution_count": 101,
   "metadata": {},
   "outputs": [
    {
     "name": "stdout",
     "output_type": "stream",
     "text": [
      "251\n"
     ]
    }
   ],
   "source": [
    "print(difference(now, lasts))"
   ]
  },
  {
   "cell_type": "markdown",
   "metadata": {},
   "source": [
    "## Finding words and storing to other new collumn"
   ]
  },
  {
   "cell_type": "code",
   "execution_count": 102,
   "metadata": {},
   "outputs": [],
   "source": [
    "import csv \n",
    "\n",
    "csv_out = open('/home/kishor/Desktop/Automatic email content store.csv', mode='w') #opens csv file\n",
    "reader = csv.reader(csv_out) #create the csv writer object\n",
    "\n",
    "fields = ['new'] #field names\n",
    "writers.writerow(fields) #writes field\n",
    "\n",
    "\n",
    "def storing(searching, data):\n",
    "    for raw in data:\n",
    "        st = raw.split()\n",
    "        for serch in searching:\n",
    "            for t in st:\n",
    "                if t==serch:\n",
    "                    writer.writerow(serch)\n"
   ]
  },
  {
   "cell_type": "code",
   "execution_count": null,
   "metadata": {},
   "outputs": [],
   "source": [
    "    "
   ]
  }
 ],
 "metadata": {
  "kernelspec": {
   "display_name": "Python 3",
   "language": "python",
   "name": "python3"
  },
  "language_info": {
   "codemirror_mode": {
    "name": "ipython",
    "version": 3
   },
   "file_extension": ".py",
   "mimetype": "text/x-python",
   "name": "python",
   "nbconvert_exporter": "python",
   "pygments_lexer": "ipython3",
   "version": "3.6.4"
  }
 },
 "nbformat": 4,
 "nbformat_minor": 2
}
